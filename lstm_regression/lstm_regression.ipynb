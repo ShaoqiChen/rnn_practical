{
 "metadata": {
  "language_info": {
   "codemirror_mode": {
    "name": "ipython",
    "version": 3
   },
   "file_extension": ".py",
   "mimetype": "text/x-python",
   "name": "python",
   "nbconvert_exporter": "python",
   "pygments_lexer": "ipython3",
   "version": "3.7.9-final"
  },
  "orig_nbformat": 2,
  "kernelspec": {
   "name": "python3",
   "display_name": "Python 3.7.9 64-bit ('tf-torch': conda)",
   "metadata": {
    "interpreter": {
     "hash": "3b83d27d71c7fc7c48be65d4ee1969cae242fb8655a5d373121531bff75998ff"
    }
   }
  }
 },
 "nbformat": 4,
 "nbformat_minor": 2,
 "cells": [
  {
   "cell_type": "code",
   "execution_count": null,
   "metadata": {},
   "outputs": [],
   "source": [
    "import numpy as np\n",
    "import pandas as pd\n",
    "from sklearn.utils import shuffle\n",
    "import argparse # handles arguments\n",
    "import torch # pytorch package, allows using GPUs\n",
    "import torch.nn as nn # construct NN\n",
    "import torch.optim as optim # different update rules such as SGD, Nesterov-SGD, Adam, RMSProp, etc"
   ]
  },
  {
   "source": [
    "## Loading data for lstm"
   ],
   "cell_type": "markdown",
   "metadata": {}
  },
  {
   "cell_type": "code",
   "execution_count": null,
   "metadata": {},
   "outputs": [],
   "source": [
    "data_file='8000train_XiT.csv'\n",
    "df = pd.read_csv(data_file, header= 0,nrows=8000, engine='python')\n",
    "train_seqs = torch.Tensor(df[[col for col in df.columns[1:301]]].values).unsqueeze(1)\n",
    "train_value = torch.Tensor(df[['J']].values)"
   ]
  },
  {
   "cell_type": "code",
   "execution_count": null,
   "metadata": {},
   "outputs": [],
   "source": [
    "data_file='2000test_XiT.csv'\n",
    "df = pd.read_csv(data_file, header= 0,nrows=2000, engine='python')\n",
    "test_seqs = torch.Tensor(df[[col for col in df.columns[1:301]]].values).unsqueeze(1)\n",
    "test_value = torch.Tensor(df[['J']].values)"
   ]
  },
  {
   "source": [
    "## Creating lstm model"
   ],
   "cell_type": "markdown",
   "metadata": {}
  },
  {
   "cell_type": "code",
   "execution_count": null,
   "metadata": {},
   "outputs": [],
   "source": [
    "class LSTM(nn.Module):\n",
    "    def __init__(self, input_size=300, hidden_layer_size=100, output_size=1, batch=100):\n",
    "        super().__init__()\n",
    "        self.hidden_layer_size = hidden_layer_size\n",
    "\n",
    "        self.lstm = nn.LSTM(input_size, hidden_layer_size, batch_first=True)\n",
    "\n",
    "        self.linear = nn.Linear(hidden_layer_size, output_size)\n",
    "\n",
    "        self.hidden_cell = (torch.zeros(1,batch,self.hidden_layer_size),\n",
    "                            torch.zeros(1,batch,self.hidden_layer_size))\n",
    "\n",
    "    def forward(self, batch_input_seq):\n",
    "        lstm_out, self.hidden_cell = self.lstm(batch_input_seq, self.hidden_cell)  #output shape:(seq_len, batch, num_directions * hidden_size)\n",
    "        predictions = self.linear(lstm_out.squeeze()) \n",
    "        return predictions"
   ]
  },
  {
   "source": [
    "## Training lstm model"
   ],
   "cell_type": "markdown",
   "metadata": {}
  },
  {
   "cell_type": "code",
   "execution_count": null,
   "metadata": {},
   "outputs": [],
   "source": [
    "learning_rate = 0.01\n",
    "batch = 100\n",
    "epochs = 500\n",
    "train_loss = []\n",
    "test_loss = []\n",
    "\n",
    "\n",
    "lstm_regressor = LSTM()\n",
    "\n",
    "\n",
    "loss = torch.nn.MSELoss()\n",
    "optimizer = optim.Adam(lstm_regressor.parameters(),lr=learning_rate)\n",
    "\n",
    "lstm_regressor.train()\n",
    "for epoch in range(epochs):\n",
    "    train_total_loss = 0\n",
    "    for i in range(int(len(train_seqs)/batch)):\n",
    "        optimizer.zero_grad()\n",
    "\n",
    "        train_seqs_batch = train_seqs[i*batch:(i+1)*batch]\n",
    "        train_value_batch = train_value[i*batch:(i+1)*batch]\n",
    "\n",
    "        lstm_regressor.hidden_cell = (torch.zeros(1, batch, lstm_regressor.hidden_layer_size),\n",
    "                        torch.zeros(1, batch, lstm_regressor.hidden_layer_size))\n",
    "        lstm_out = lstm_regressor(train_seqs_batch)\n",
    "        train_error = loss(lstm_out, train_value_batch)\n",
    "        train_total_loss += train_error.item()\n",
    "\n",
    "\n",
    "        train_error.backward(retain_graph=True)\n",
    "        optimizer.step()\n",
    "\n",
    "        if (i+1)%40 == 0:\n",
    "            print('Epoch: {}/{} [{}/{} ({:.0f}%)]\\t Loss: {}'.format(epoch+1, epochs, i*batch, len(train_seqs), i*batch/len(train_seqs)*100, train_error))\n",
    "\n",
    "\n",
    "    lstm_regressor.hidden_cell = (torch.zeros(1, len(test_seqs), lstm_regressor.hidden_layer_size),\n",
    "                        torch.zeros(1, len(test_seqs), lstm_regressor.hidden_layer_size))\n",
    "    test_lstm_out = lstm_regressor(test_seqs)\n",
    "    test_error = loss(test_lstm_out, test_value)\n",
    "    train_loss.append(train_total_loss/(len(train_seqs)/batch))\n",
    "    test_loss.append(test_error)"
   ]
  },
  {
   "cell_type": "code",
   "execution_count": null,
   "metadata": {},
   "outputs": [],
   "source": [
    "import matplotlib.pyplot as plt\n",
    "\n",
    "plt.plot(train_loss,'b',label='train')\n",
    "plt.plot(test_loss, 'r',label=\"test\")\n",
    "plt.title('Learning curves of lstm regression')\n",
    "plt.legend()\n",
    "plt.show()"
   ]
  },
  {
   "source": [
    "# Comparing Fully connected neural network"
   ],
   "cell_type": "markdown",
   "metadata": {}
  },
  {
   "source": [
    "## Loading data for fully connected neural network"
   ],
   "cell_type": "markdown",
   "metadata": {}
  },
  {
   "cell_type": "code",
   "execution_count": null,
   "metadata": {},
   "outputs": [],
   "source": [
    "data_file='8000train_XiT.csv'\n",
    "df = pd.read_csv(data_file, header= 0,nrows=8000, engine='python')\n",
    "train_seqs = torch.Tensor(df[[col for col in df.columns[1:301]]].values)\n",
    "train_value = torch.Tensor(df[['J']].values)"
   ]
  },
  {
   "cell_type": "code",
   "execution_count": null,
   "metadata": {},
   "outputs": [],
   "source": [
    "data_file='2000test_XiT.csv'\n",
    "df = pd.read_csv(data_file, header= 0,nrows=2000, engine='python')\n",
    "test_seqs = torch.Tensor(df[[col for col in df.columns[1:301]]].values)\n",
    "test_value = torch.Tensor(df[['J']].values)"
   ]
  },
  {
   "source": [
    "## Creating fully connected neural network (FCNN) model"
   ],
   "cell_type": "markdown",
   "metadata": {}
  },
  {
   "cell_type": "code",
   "execution_count": null,
   "metadata": {},
   "outputs": [],
   "source": [
    "class FCNN(nn.Module):\n",
    "    def __init__(self, input_size=300, hidden_layer_size=100, output_size=1, batch=100):\n",
    "        super().__init__()\n",
    "        self.hidden_layer_size = hidden_layer_size\n",
    "\n",
    "        self.linear1 = nn.Linear(input_size, hidden_layer_size)\n",
    "\n",
    "        self.linear2 = nn.Linear(hidden_layer_size, output_size)\n",
    "\n",
    "\n",
    "    def forward(self, input_seq):\n",
    "        hidden = nn.Tanh()(self.linear1(input_seq))\n",
    "        pred = self.linear2(hidden)\n",
    "        return pred"
   ]
  },
  {
   "source": [
    "## Training the FCNN model"
   ],
   "cell_type": "markdown",
   "metadata": {}
  },
  {
   "cell_type": "code",
   "execution_count": null,
   "metadata": {},
   "outputs": [],
   "source": [
    "learning_rate = 0.01\n",
    "batch = 100\n",
    "epochs = 500\n",
    "train_loss = []\n",
    "test_loss = []\n",
    "\n",
    "\n",
    "fc_regressor = FCNN()\n",
    "\n",
    "\n",
    "loss = torch.nn.MSELoss()\n",
    "optimizer = optim.Adam(fc_regressor.parameters(),lr=learning_rate)\n",
    "\n",
    "lstm_regressor.train()\n",
    "for epoch in range(epochs):\n",
    "    train_total_loss = 0\n",
    "    for i in range(int(len(train_seqs)/batch)):\n",
    "        optimizer.zero_grad()\n",
    "\n",
    "        train_seqs_batch = train_seqs[i*batch:(i+1)*batch]\n",
    "        train_value_batch = train_value[i*batch:(i+1)*batch]\n",
    "\n",
    "\n",
    "        fc_out = fc_regressor(train_seqs_batch)\n",
    "        train_error = loss(fc_out, train_value_batch)\n",
    "        train_total_loss += train_error.item()\n",
    "\n",
    "\n",
    "        train_error.backward()\n",
    "        optimizer.step()\n",
    "\n",
    "        if (i+1)%40 == 0:\n",
    "            print('Epoch: {}/{} [{}/{} ({:.0f}%)]\\t Loss: {}'.format(epoch+1, epochs, i*batch, len(train_seqs), i*batch/len(train_seqs)*100, train_error))\n",
    "\n",
    "\n",
    "\n",
    "    test_fc_out = fc_regressor(test_seqs)\n",
    "    test_error = loss(test_fc_out, test_value)\n",
    "    train_loss.append(train_total_loss/(len(train_seqs)/batch))\n",
    "    test_loss.append(test_error)"
   ]
  },
  {
   "cell_type": "code",
   "execution_count": null,
   "metadata": {},
   "outputs": [],
   "source": [
    "import matplotlib.pyplot as plt\n",
    "\n",
    "plt.plot(train_loss,'b',label='train')\n",
    "plt.plot(test_loss, 'r',label='test')\n",
    "plt.title('Learning curve of FCNN regression')\n",
    "plt.legend()\n",
    "plt.show()"
   ]
  },
  {
   "cell_type": "code",
   "execution_count": null,
   "metadata": {},
   "outputs": [],
   "source": []
  }
 ]
}